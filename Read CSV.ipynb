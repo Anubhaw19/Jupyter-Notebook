{
 "cells": [
  {
   "cell_type": "code",
   "execution_count": 41,
   "metadata": {},
   "outputs": [
    {
     "data": {
      "text/html": [
       "<div>\n",
       "<style scoped>\n",
       "    .dataframe tbody tr th:only-of-type {\n",
       "        vertical-align: middle;\n",
       "    }\n",
       "\n",
       "    .dataframe tbody tr th {\n",
       "        vertical-align: top;\n",
       "    }\n",
       "\n",
       "    .dataframe thead th {\n",
       "        text-align: right;\n",
       "    }\n",
       "</style>\n",
       "<table border=\"1\" class=\"dataframe\">\n",
       "  <thead>\n",
       "    <tr style=\"text-align: right;\">\n",
       "      <th></th>\n",
       "      <th>name</th>\n",
       "      <th>batch</th>\n",
       "      <th>category</th>\n",
       "      <th>price</th>\n",
       "      <th>description</th>\n",
       "      <th>img_url</th>\n",
       "    </tr>\n",
       "  </thead>\n",
       "  <tbody>\n",
       "    <tr>\n",
       "      <th>0</th>\n",
       "      <td>Anubhaw</td>\n",
       "      <td>2k18</td>\n",
       "      <td>Laptop</td>\n",
       "      <td>10000</td>\n",
       "      <td>Lorem ipsum dolor sit amet, consectetur adipis...</td>\n",
       "      <td>https://images-na.ssl-images-amazon.com/images...</td>\n",
       "    </tr>\n",
       "    <tr>\n",
       "      <th>1</th>\n",
       "      <td>Shivam</td>\n",
       "      <td>2k18</td>\n",
       "      <td>Table</td>\n",
       "      <td>300</td>\n",
       "      <td>Lorem ipsum dolor sit amet, consectetur adipis...</td>\n",
       "      <td>https://encrypted-tbn0.gstatic.com/images?q=tb...</td>\n",
       "    </tr>\n",
       "    <tr>\n",
       "      <th>2</th>\n",
       "      <td>Priyanshu</td>\n",
       "      <td>2k19</td>\n",
       "      <td>HeadPhones</td>\n",
       "      <td>500</td>\n",
       "      <td>Lorem ipsum dolor sit amet, consectetur adipis...</td>\n",
       "      <td>https://images-na.ssl-images-amazon.com/images...</td>\n",
       "    </tr>\n",
       "    <tr>\n",
       "      <th>3</th>\n",
       "      <td>Anajli</td>\n",
       "      <td>2k19</td>\n",
       "      <td>Electric Iron</td>\n",
       "      <td>600</td>\n",
       "      <td>Lorem ipsum dolor sit amet, consectetur adipis...</td>\n",
       "      <td>https://cpimg.tistatic.com/04808180/b/5/Electr...</td>\n",
       "    </tr>\n",
       "    <tr>\n",
       "      <th>4</th>\n",
       "      <td>Anubhaw</td>\n",
       "      <td>2k18</td>\n",
       "      <td>Laptop</td>\n",
       "      <td>15000</td>\n",
       "      <td>Lorem ipsum dolor sit amet, consectetur adipis...</td>\n",
       "      <td>https://images.anandtech.com/doci/15680/Swift-...</td>\n",
       "    </tr>\n",
       "    <tr>\n",
       "      <th>5</th>\n",
       "      <td>Shivam</td>\n",
       "      <td>2k18</td>\n",
       "      <td>Table</td>\n",
       "      <td>800</td>\n",
       "      <td>Lorem ipsum dolor sit amet, consectetur adipis...</td>\n",
       "      <td>https://cdn.shopify.com/s/files/1/0191/2234/pr...</td>\n",
       "    </tr>\n",
       "    <tr>\n",
       "      <th>6</th>\n",
       "      <td>Priyanshu</td>\n",
       "      <td>2k19</td>\n",
       "      <td>Cycle</td>\n",
       "      <td>1500</td>\n",
       "      <td>Lorem ipsum dolor sit amet, consectetur adipis...</td>\n",
       "      <td>https://www.avoncycles.com/images/ProductImage...</td>\n",
       "    </tr>\n",
       "    <tr>\n",
       "      <th>7</th>\n",
       "      <td>Anajli</td>\n",
       "      <td>2k19</td>\n",
       "      <td>Study Lamp</td>\n",
       "      <td>200</td>\n",
       "      <td>Lorem ipsum dolor sit amet, consectetur adipis...</td>\n",
       "      <td>https://www.monexappliances.com/wp-content/upl...</td>\n",
       "    </tr>\n",
       "    <tr>\n",
       "      <th>8</th>\n",
       "      <td>Anubhaw</td>\n",
       "      <td>2k18</td>\n",
       "      <td>Cycle</td>\n",
       "      <td>1100</td>\n",
       "      <td>Lorem ipsum dolor sit amet, consectetur adipis...</td>\n",
       "      <td>https://qph.fs.quoracdn.net/main-qimg-7e9c0811...</td>\n",
       "    </tr>\n",
       "    <tr>\n",
       "      <th>9</th>\n",
       "      <td>Subham</td>\n",
       "      <td>2k17</td>\n",
       "      <td>Book</td>\n",
       "      <td>300</td>\n",
       "      <td>Lorem ipsum dolor sit amet, consectetur adipis...</td>\n",
       "      <td>https://kali.training/wp-content/uploads/2017/...</td>\n",
       "    </tr>\n",
       "  </tbody>\n",
       "</table>\n",
       "</div>"
      ],
      "text/plain": [
       "        name batch       category  price  \\\n",
       "0    Anubhaw  2k18         Laptop  10000   \n",
       "1     Shivam  2k18          Table    300   \n",
       "2  Priyanshu  2k19     HeadPhones    500   \n",
       "3     Anajli  2k19  Electric Iron    600   \n",
       "4    Anubhaw  2k18         Laptop  15000   \n",
       "5     Shivam  2k18          Table    800   \n",
       "6  Priyanshu  2k19          Cycle   1500   \n",
       "7     Anajli  2k19     Study Lamp    200   \n",
       "8    Anubhaw  2k18          Cycle   1100   \n",
       "9     Subham  2k17           Book    300   \n",
       "\n",
       "                                         description  \\\n",
       "0  Lorem ipsum dolor sit amet, consectetur adipis...   \n",
       "1  Lorem ipsum dolor sit amet, consectetur adipis...   \n",
       "2  Lorem ipsum dolor sit amet, consectetur adipis...   \n",
       "3  Lorem ipsum dolor sit amet, consectetur adipis...   \n",
       "4  Lorem ipsum dolor sit amet, consectetur adipis...   \n",
       "5  Lorem ipsum dolor sit amet, consectetur adipis...   \n",
       "6  Lorem ipsum dolor sit amet, consectetur adipis...   \n",
       "7  Lorem ipsum dolor sit amet, consectetur adipis...   \n",
       "8  Lorem ipsum dolor sit amet, consectetur adipis...   \n",
       "9  Lorem ipsum dolor sit amet, consectetur adipis...   \n",
       "\n",
       "                                             img_url  \n",
       "0  https://images-na.ssl-images-amazon.com/images...  \n",
       "1  https://encrypted-tbn0.gstatic.com/images?q=tb...  \n",
       "2  https://images-na.ssl-images-amazon.com/images...  \n",
       "3  https://cpimg.tistatic.com/04808180/b/5/Electr...  \n",
       "4  https://images.anandtech.com/doci/15680/Swift-...  \n",
       "5  https://cdn.shopify.com/s/files/1/0191/2234/pr...  \n",
       "6  https://www.avoncycles.com/images/ProductImage...  \n",
       "7  https://www.monexappliances.com/wp-content/upl...  \n",
       "8  https://qph.fs.quoracdn.net/main-qimg-7e9c0811...  \n",
       "9  https://kali.training/wp-content/uploads/2017/...  "
      ]
     },
     "execution_count": 41,
     "metadata": {},
     "output_type": "execute_result"
    }
   ],
   "source": [
    "import pandas as pd\n",
    "pd.read_csv('Sample.csv')"
   ]
  },
  {
   "cell_type": "code",
   "execution_count": 49,
   "metadata": {},
   "outputs": [
    {
     "data": {
      "text/plain": [
       "(10, 6)"
      ]
     },
     "execution_count": 49,
     "metadata": {},
     "output_type": "execute_result"
    }
   ],
   "source": [
    "import pandas as pd\n",
    "datas=pd.read_csv('Sample.csv')\n",
    "datas.shape \n",
    "#shape returns count of rows and columns"
   ]
  },
  {
   "cell_type": "code",
   "execution_count": 50,
   "metadata": {},
   "outputs": [
    {
     "data": {
      "text/plain": [
       "60"
      ]
     },
     "execution_count": 50,
     "metadata": {},
     "output_type": "execute_result"
    }
   ],
   "source": [
    "datas.size #returns (rows x columns)"
   ]
  },
  {
   "cell_type": "code",
   "execution_count": 66,
   "metadata": {},
   "outputs": [
    {
     "data": {
      "text/plain": [
       "0      Anubhaw\n",
       "1       Shivam\n",
       "2    Priyanshu\n",
       "3       Anajli\n",
       "4      Anubhaw\n",
       "5       Shivam\n",
       "6    Priyanshu\n",
       "7       Anajli\n",
       "8      Anubhaw\n",
       "9       Subham\n",
       "Name: name, dtype: object"
      ]
     },
     "execution_count": 66,
     "metadata": {},
     "output_type": "execute_result"
    }
   ],
   "source": [
    "data=pd.read_csv('Sample.csv',squeeze=True,usecols=[\"name\"])\n",
    "data\n"
   ]
  },
  {
   "cell_type": "code",
   "execution_count": 67,
   "metadata": {},
   "outputs": [
    {
     "data": {
      "text/plain": [
       "0      Anubhaw\n",
       "1       Shivam\n",
       "2    Priyanshu\n",
       "3       Anajli\n",
       "4      Anubhaw\n",
       "5       Shivam\n",
       "6    Priyanshu\n",
       "7       Anajli\n",
       "8      Anubhaw\n",
       "9       Subham\n",
       "Name: name, dtype: object"
      ]
     },
     "execution_count": 67,
     "metadata": {},
     "output_type": "execute_result"
    }
   ],
   "source": [
    "data.head() #first 5 elements\n",
    "data.head(10)\n"
   ]
  },
  {
   "cell_type": "code",
   "execution_count": 25,
   "metadata": {},
   "outputs": [
    {
     "data": {
      "text/plain": [
       "0      Anubhaw\n",
       "1       Shivam\n",
       "2    Priyanshu\n",
       "3       Anajli\n",
       "4      Anubhaw\n",
       "5       Shivam\n",
       "6    Priyanshu\n",
       "7       Anajli\n",
       "8      Anubhaw\n",
       "9       Subham\n",
       "Name: name, dtype: object"
      ]
     },
     "execution_count": 25,
     "metadata": {},
     "output_type": "execute_result"
    }
   ],
   "source": [
    "data.tail() #last 5 elements\n",
    "data.tail(10)"
   ]
  },
  {
   "cell_type": "code",
   "execution_count": 28,
   "metadata": {},
   "outputs": [
    {
     "data": {
      "text/plain": [
       "dtype('O')"
      ]
     },
     "execution_count": 28,
     "metadata": {},
     "output_type": "execute_result"
    }
   ],
   "source": [
    "data.values\n",
    "data.index\n",
    "data.dtype"
   ]
  },
  {
   "cell_type": "code",
   "execution_count": 29,
   "metadata": {},
   "outputs": [
    {
     "data": {
      "text/plain": [
       "False"
      ]
     },
     "execution_count": 29,
     "metadata": {},
     "output_type": "execute_result"
    }
   ],
   "source": [
    "data.is_unique #checks for unique data in the file"
   ]
  },
  {
   "cell_type": "code",
   "execution_count": 38,
   "metadata": {},
   "outputs": [
    {
     "data": {
      "text/plain": [
       "1"
      ]
     },
     "execution_count": 38,
     "metadata": {},
     "output_type": "execute_result"
    }
   ],
   "source": [
    "data.ndim #returns dimension of the data ,series is one dimensional data"
   ]
  },
  {
   "cell_type": "code",
   "execution_count": 51,
   "metadata": {},
   "outputs": [
    {
     "data": {
      "text/plain": [
       "0      Anubhaw\n",
       "1       Shivam\n",
       "2    Priyanshu\n",
       "3       Anajli\n",
       "4      Anubhaw\n",
       "5       Shivam\n",
       "6    Priyanshu\n",
       "7       Anajli\n",
       "8      Anubhaw\n",
       "9       Subham\n",
       "Name: name, dtype: object"
      ]
     },
     "execution_count": 51,
     "metadata": {},
     "output_type": "execute_result"
    }
   ],
   "source": [
    "data.name"
   ]
  },
  {
   "cell_type": "code",
   "execution_count": 68,
   "metadata": {},
   "outputs": [
    {
     "data": {
      "text/plain": [
       "0      Anubhaw\n",
       "1       Shivam\n",
       "2    Priyanshu\n",
       "3       Anajli\n",
       "4      Anubhaw\n",
       "5       Shivam\n",
       "6    Priyanshu\n",
       "7       Anajli\n",
       "8      Anubhaw\n",
       "9       Subham\n",
       "Name: name, dtype: object"
      ]
     },
     "execution_count": 68,
     "metadata": {},
     "output_type": "execute_result"
    }
   ],
   "source": [
    "data"
   ]
  }
 ],
 "metadata": {
  "kernelspec": {
   "display_name": "Python 3",
   "language": "python",
   "name": "python3"
  },
  "language_info": {
   "codemirror_mode": {
    "name": "ipython",
    "version": 3
   },
   "file_extension": ".py",
   "mimetype": "text/x-python",
   "name": "python",
   "nbconvert_exporter": "python",
   "pygments_lexer": "ipython3",
   "version": "3.8.5"
  }
 },
 "nbformat": 4,
 "nbformat_minor": 4
}

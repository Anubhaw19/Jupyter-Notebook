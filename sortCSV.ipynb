{
 "cells": [
  {
   "cell_type": "code",
   "execution_count": 3,
   "metadata": {},
   "outputs": [
    {
     "data": {
      "text/plain": [
       "0      Anubhaw\n",
       "1       Shivam\n",
       "2    Priyanshu\n",
       "3       Anajli\n",
       "4      Anubhaw\n",
       "5       Shivam\n",
       "6    Priyanshu\n",
       "7       Anajli\n",
       "8      Anubhaw\n",
       "9       Subham\n",
       "Name: name, dtype: object"
      ]
     },
     "execution_count": 3,
     "metadata": {},
     "output_type": "execute_result"
    }
   ],
   "source": [
    "import pandas as pd\n",
    "data=pd.read_csv('Sample.csv',squeeze=True,usecols=[\"name\"])\n",
    "data\n"
   ]
  },
  {
   "cell_type": "code",
   "execution_count": 9,
   "metadata": {},
   "outputs": [
    {
     "data": {
      "text/plain": [
       "3       Anajli\n",
       "7       Anajli\n",
       "0      Anubhaw\n",
       "4      Anubhaw\n",
       "8      Anubhaw\n",
       "2    Priyanshu\n",
       "6    Priyanshu\n",
       "1       Shivam\n",
       "5       Shivam\n",
       "9       Subham\n",
       "Name: name, dtype: object"
      ]
     },
     "execution_count": 9,
     "metadata": {},
     "output_type": "execute_result"
    }
   ],
   "source": [
    "data.sort_values().head(10)"
   ]
  },
  {
   "cell_type": "code",
   "execution_count": 10,
   "metadata": {},
   "outputs": [
    {
     "data": {
      "text/plain": [
       "9       Subham\n",
       "5       Shivam\n",
       "1       Shivam\n",
       "6    Priyanshu\n",
       "2    Priyanshu\n",
       "8      Anubhaw\n",
       "4      Anubhaw\n",
       "0      Anubhaw\n",
       "7       Anajli\n",
       "3       Anajli\n",
       "Name: name, dtype: object"
      ]
     },
     "execution_count": 10,
     "metadata": {},
     "output_type": "execute_result"
    }
   ],
   "source": [
    "data.sort_values(ascending=False).head(10) # reversing in descending order "
   ]
  }
 ],
 "metadata": {
  "kernelspec": {
   "display_name": "Python 3",
   "language": "python",
   "name": "python3"
  },
  "language_info": {
   "codemirror_mode": {
    "name": "ipython",
    "version": 3
   },
   "file_extension": ".py",
   "mimetype": "text/x-python",
   "name": "python",
   "nbconvert_exporter": "python",
   "pygments_lexer": "ipython3",
   "version": "3.8.5"
  }
 },
 "nbformat": 4,
 "nbformat_minor": 4
}
